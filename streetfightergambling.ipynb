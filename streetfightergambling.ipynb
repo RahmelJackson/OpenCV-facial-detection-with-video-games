{
 "cells": [
  {
   "cell_type": "code",
   "execution_count": 2,
   "metadata": {},
   "outputs": [],
   "source": [
    "import numpy as np\n",
    "import cv2"
   ]
  },
  {
   "cell_type": "code",
   "execution_count": 9,
   "metadata": {},
   "outputs": [],
   "source": [
    "front_face = cv2.CascadeClassifier(r\"C:\\Users\\Rahmel Jackson\\Anaconda64\\Lib\\site-packages\\cv2\\data\\haarcascade_frontalface_alt2.xml\")\n",
    "side_face =  cv2.CascadeClassifier(r\"C:\\Users\\Rahmel Jackson\\Anaconda64\\Lib\\site-packages\\cv2\\data\\haarcascade_profileface.xml\")"
   ]
  },
  {
   "cell_type": "code",
   "execution_count": 13,
   "metadata": {},
   "outputs": [],
   "source": [
    "cap = cv2.VideoCapture(r\"C:\\Users\\Rahmel Jackson\\Downloads\\STREET FIGHTER V Chun - li vs Ken.mp4\")\n",
    "fourcc = cv2.VideoWriter_fourcc(*'XVID')\n",
    "out = cv2.VideoWriter('facial_dectectsf5.mp4',fourcc, 60.0,(480,360))\n",
    "\n",
    "while(True):\n",
    "    ret, frame = cap.read()\n",
    "    face = front_face.detectMultiScale(frame, 1.1, 2)\n",
    "    face2 = side_face.detectMultiScale(frame, 1.1, 3)\n",
    "    for (x,y,w,h) in face:\n",
    "        cv2.rectangle(frame,(x,y),(x+w,y+h),(255,0,0),2)\n",
    "        cv2.imshow('frame', frame)\n",
    "        \n",
    "        for (x,y,w,h) in face2:\n",
    "            cv2.rectangle(frame,(x,y),(x+w,y+h),(155,0,0),2)\n",
    "            cv2.imshow('frame', frame)\n",
    "    \n",
    "    if cv2.waitKey(1) & 0xFF == ord('q'):\n",
    "        break\n",
    "\n",
    "cap.release()\n",
    "out.release()\n",
    "cv2.destroyAllWindows()\n"
   ]
  },
  {
   "cell_type": "code",
   "execution_count": null,
   "metadata": {},
   "outputs": [],
   "source": []
  },
  {
   "cell_type": "code",
   "execution_count": null,
   "metadata": {},
   "outputs": [],
   "source": []
  }
 ],
 "metadata": {
  "kernelspec": {
   "display_name": "Python 3",
   "language": "python",
   "name": "python3"
  },
  "language_info": {
   "codemirror_mode": {
    "name": "ipython",
    "version": 3
   },
   "file_extension": ".py",
   "mimetype": "text/x-python",
   "name": "python",
   "nbconvert_exporter": "python",
   "pygments_lexer": "ipython3",
   "version": "3.6.5"
  }
 },
 "nbformat": 4,
 "nbformat_minor": 2
}
